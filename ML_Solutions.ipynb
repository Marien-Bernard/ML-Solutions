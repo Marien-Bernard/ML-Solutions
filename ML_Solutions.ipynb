{
  "nbformat": 4,
  "nbformat_minor": 0,
  "metadata": {
    "colab": {
      "provenance": []
    },
    "kernelspec": {
      "name": "python3",
      "display_name": "Python 3"
    },
    "language_info": {
      "name": "python"
    }
  },
  "cells": [
    {
      "cell_type": "markdown",
      "source": [
        "Name: MARIEN BERNARD M\n",
        "\n",
        "ML QUESTIONS :- SOLUTIONS"
      ],
      "metadata": {
        "id": "J7idFEE_RZmu"
      }
    },
    {
      "cell_type": "markdown",
      "source": [
        "1. Create two custom layers in tensorflow that add two inputs and multiply two inputs\n",
        "respectively [or any other mathematical operations of your choice(linear or nonlinear)]\n",
        "Add layer names and other things that are present in other common layers in tensorflow."
      ],
      "metadata": {
        "id": "jgcLbYI4RVe_"
      }
    },
    {
      "cell_type": "code",
      "source": [
        "# Importing tensorflow\n",
        "\n",
        "import tensorflow as tf\n",
        "\n",
        "# We are defining two functions for addition and multiplication\n",
        "\n",
        "def add_layer(inputs):\n",
        "  return tf.math.add(inputs[0],inputs[1]) # math.add is used for adding\n",
        "def multiply_layer(inputs):\n",
        "  return tf.math.multiply(inputs[0],inputs[1]) # math.multiply is used for multiplication\n",
        "\n",
        "# Creating inputs\n",
        "\n",
        "input1= tf.keras.layers.Input(shape=(4,),name='input_1') # keras.layers.Input is a predefined function for getting inputs\n",
        "input2= tf.keras.layers.Input(shape=(4,),name='input_2')\n",
        "\n",
        "# Creating layers for addition and multiplication\n",
        "\n",
        "addition_layer=tf.keras.layers.Lambda(add_layer,name=\"add_layer\")([input1, input2]) # here we used lambda function to get n number of arguments to do an expression\n",
        "\n",
        "multiplication_layer=tf.keras.layers.Lambda(multiply_layer,name=\"multiply_layer\")([input1, input2])\n",
        "\n",
        "print(addition_layer)\n",
        "print(multiplication_layer)\n"
      ],
      "metadata": {
        "colab": {
          "base_uri": "https://localhost:8080/"
        },
        "id": "Zj97P0b2RYsf",
        "outputId": "aca91f88-dd53-4fa9-a71f-0e191a7e55b9"
      },
      "execution_count": 15,
      "outputs": [
        {
          "output_type": "stream",
          "name": "stdout",
          "text": [
            "KerasTensor(type_spec=TensorSpec(shape=(None, 4), dtype=tf.float32, name=None), name='add_layer/Add:0', description=\"created by layer 'add_layer'\")\n",
            "KerasTensor(type_spec=TensorSpec(shape=(None, 4), dtype=tf.float32, name=None), name='multiply_layer/Mul:0', description=\"created by layer 'multiply_layer'\")\n"
          ]
        }
      ]
    },
    {
      "cell_type": "markdown",
      "source": [
        "Here we have 4 elements in addition layer and 4 elements in multiplication layer"
      ],
      "metadata": {
        "id": "KNMdVllvaSyq"
      }
    },
    {
      "cell_type": "markdown",
      "source": [
        "2. Combine these two layers in a third custom layer. Concatenate them or multiply them\n",
        "etc. (5pts)"
      ],
      "metadata": {
        "id": "alEoYn1vZTC8"
      }
    },
    {
      "cell_type": "code",
      "source": [
        "# -Concatenation of these two layers\n",
        "\n",
        "concatenated_layer=tf.keras.layers.Concatenate(name='concatenated_layer')([addition_layer,multiplication_layer])\n",
        "\n",
        "print(concatenated_layer)\n",
        "\n",
        "\n",
        "# we will fit a model\n",
        "\n",
        "model=tf.keras.Model(inputs=[input1,input2],outputs=concatenated_layer)"
      ],
      "metadata": {
        "colab": {
          "base_uri": "https://localhost:8080/"
        },
        "id": "N_irfftdZZF7",
        "outputId": "403bf235-2033-4c63-8d2e-3e7515deb7f6"
      },
      "execution_count": 19,
      "outputs": [
        {
          "output_type": "stream",
          "name": "stdout",
          "text": [
            "KerasTensor(type_spec=TensorSpec(shape=(None, 8), dtype=tf.float32, name=None), name='concatenated_layer/concat:0', description=\"created by layer 'concatenated_layer'\")\n"
          ]
        }
      ]
    },
    {
      "cell_type": "markdown",
      "source": [
        "Here we can see the shape has 8 elements, 4 from addition layer and 4 from multipliacation layer"
      ],
      "metadata": {
        "id": "h1F33UUbaAo3"
      }
    },
    {
      "cell_type": "markdown",
      "source": [
        "3. Create a model using these and observe how batch inference works (10 pts)"
      ],
      "metadata": {
        "id": "aQlIgdNsahao"
      }
    },
    {
      "cell_type": "code",
      "source": [
        "# First we will import numpy for generating random data\n",
        "\n",
        "import numpy as np\n",
        "\n",
        "input_data=np.random.rand(100,10)\n",
        "input_data1= input_data[:50, :]\n",
        "input_data2= input_data[50:, :]\n",
        "\n",
        "\n",
        "# Running this on a single input\n",
        "single_output=model.predict([input_data1[0],input_data2[0]])\n",
        "print(\"Single Output Shape: \",single_output.shape)\n",
        "\n",
        "# Running this on batch of inputs\n",
        "batch_output=model.predict([input_data1,input_data2])\n",
        "print(\"batch Output Shape: \",batch_output.shape)\n"
      ],
      "metadata": {
        "colab": {
          "base_uri": "https://localhost:8080/"
        },
        "id": "tHC9ygFJZ5XV",
        "outputId": "f93482ca-c6cf-45d6-c327-ad77f8325b19"
      },
      "execution_count": 24,
      "outputs": [
        {
          "output_type": "stream",
          "name": "stdout",
          "text": [
            "1/1 [==============================] - 0s 34ms/step\n",
            "Single Output Shape:  (20,)\n",
            "2/2 [==============================] - 0s 7ms/step\n",
            "batch Output Shape:  (50, 20)\n"
          ]
        }
      ]
    },
    {
      "cell_type": "markdown",
      "source": [
        "Here we can see , we generated the random input data and splitted into two batches of size 50.\n",
        "While running for single input it gave size of (20,) and time is 34ms/step\n",
        "\n",
        "we passed the first batch of first 50 as input_data1 and second half as input_data_2, this runs the pair simultaneously.\n",
        "\n",
        "the size is (50,20) and time is 7ms/step\n",
        "\n",
        "The observation is for lager dataset the batch inference is faster than processing individually.\n",
        "\n",
        "we can try using different batch sizes, using larger batch size gives faster results since model process more inputs simultaneously, but it requires more memory. using smaller batch size gives results slower but is more memory-efficient."
      ],
      "metadata": {
        "id": "HQ_9dyIgcy1Z"
      }
    },
    {
      "cell_type": "markdown",
      "source": [
        "4. Use a predefined layer in tensorflow to split an input/image into 4x4 = 16 tiles (5pts)"
      ],
      "metadata": {
        "id": "S6R63X-6eiGb"
      }
    },
    {
      "cell_type": "code",
      "source": [
        "# here we use an image which is present locally in colab\n",
        "\n",
        "# loading the input image\n",
        "\n",
        "input_iamge = tf.io.read_file(\"cat.jpg\")\n",
        "input_image = tf.image.decode_image(input_iamge,channels=3)\n",
        "\n",
        "# set the patch zize and strides \n",
        "# lets set it for 4*4 tiles\n",
        "\n",
        "patch_size=[1, input_image.shape[0]//4, input_image.shape[1]//4,1]\n",
        "stride=patch_size\n",
        "\n",
        "# Extracts patches using extract_patch() function\n",
        "patches= tf.image.extract_patches(images=tf.expand_dims(input_image,axis=0),\n",
        "                                  sizes=patch_size,\n",
        "                                  strides=stride,\n",
        "                                  rates=[1,1,1,1],\n",
        "                                  padding='VALID')\n",
        "\n",
        "# Now lets treshape the patches into 16 tiles\n",
        "\n",
        "tiles= tf.reshape( patches, [-1, 16, patch_size[1], patch_size[2], 3])\n",
        "\n",
        "print(tiles)"
      ],
      "metadata": {
        "colab": {
          "base_uri": "https://localhost:8080/"
        },
        "id": "qntKlzvRelC7",
        "outputId": "ddc7f038-f9f6-4599-fff4-4849ff7738b9"
      },
      "execution_count": 33,
      "outputs": [
        {
          "output_type": "stream",
          "name": "stdout",
          "text": [
            "tf.Tensor(\n",
            "[[[[[ 24  19  16]\n",
            "    [ 24  19  16]\n",
            "    [ 24  19  16]\n",
            "    ...\n",
            "    [ 73  56  38]\n",
            "    [ 70  53  35]\n",
            "    [ 70  53  35]]\n",
            "\n",
            "   [[ 24  19  16]\n",
            "    [ 24  19  16]\n",
            "    [ 24  19  16]\n",
            "    ...\n",
            "    [ 69  52  34]\n",
            "    [ 66  49  31]\n",
            "    [ 66  49  31]]\n",
            "\n",
            "   [[ 24  19  16]\n",
            "    [ 24  19  16]\n",
            "    [ 24  19  16]\n",
            "    ...\n",
            "    [ 72  55  37]\n",
            "    [ 69  52  34]\n",
            "    [ 69  52  34]]\n",
            "\n",
            "   ...\n",
            "\n",
            "   [[ 38  33  27]\n",
            "    [ 39  34  28]\n",
            "    [ 40  35  29]\n",
            "    ...\n",
            "    [ 98  69  53]\n",
            "    [ 96  69  52]\n",
            "    [102  75  58]]\n",
            "\n",
            "   [[ 39  34  28]\n",
            "    [ 40  35  29]\n",
            "    [ 41  36  30]\n",
            "    ...\n",
            "    [101  72  56]\n",
            "    [ 95  68  51]\n",
            "    [ 97  71  54]]\n",
            "\n",
            "   [[ 33  28  22]\n",
            "    [ 34  29  23]\n",
            "    [ 37  32  26]\n",
            "    ...\n",
            "    [ 97  70  53]\n",
            "    [ 95  69  52]\n",
            "    [ 96  70  53]]]\n",
            "\n",
            "\n",
            "  [[[ 68  51  33]\n",
            "    [ 73  56  38]\n",
            "    [ 74  57  39]\n",
            "    ...\n",
            "    [ 77  62  43]\n",
            "    [ 77  62  43]\n",
            "    [ 80  65  46]]\n",
            "\n",
            "   [[ 70  53  35]\n",
            "    [ 71  54  36]\n",
            "    [ 69  52  34]\n",
            "    ...\n",
            "    [ 67  52  33]\n",
            "    [ 74  59  40]\n",
            "    [ 83  68  49]]\n",
            "\n",
            "   [[ 70  53  35]\n",
            "    [ 68  51  33]\n",
            "    [ 65  48  30]\n",
            "    ...\n",
            "    [ 74  59  40]\n",
            "    [ 74  59  40]\n",
            "    [ 72  57  38]]\n",
            "\n",
            "   ...\n",
            "\n",
            "   [[ 95  69  52]\n",
            "    [ 96  70  53]\n",
            "    [ 96  70  53]\n",
            "    ...\n",
            "    [102  74  53]\n",
            "    [116  80  56]\n",
            "    [165 124  94]]\n",
            "\n",
            "   [[ 92  66  49]\n",
            "    [ 92  66  49]\n",
            "    [ 93  67  50]\n",
            "    ...\n",
            "    [103  72  52]\n",
            "    [128  90  67]\n",
            "    [162 118  89]]\n",
            "\n",
            "   [[ 88  62  45]\n",
            "    [ 89  63  46]\n",
            "    [ 90  64  47]\n",
            "    ...\n",
            "    [108  76  55]\n",
            "    [142 102  77]\n",
            "    [166 122  93]]]\n",
            "\n",
            "\n",
            "  [[[ 81  66  47]\n",
            "    [ 72  57  38]\n",
            "    [ 71  56  37]\n",
            "    ...\n",
            "    [106  82  56]\n",
            "    [101  77  51]\n",
            "    [ 94  70  44]]\n",
            "\n",
            "   [[ 75  60  41]\n",
            "    [ 69  54  35]\n",
            "    [ 69  54  35]\n",
            "    ...\n",
            "    [102  78  52]\n",
            "    [100  76  50]\n",
            "    [ 97  73  47]]\n",
            "\n",
            "   [[ 78  63  44]\n",
            "    [ 75  60  41]\n",
            "    [ 78  63  44]\n",
            "    ...\n",
            "    [ 98  74  48]\n",
            "    [ 99  75  49]\n",
            "    [102  78  52]]\n",
            "\n",
            "   ...\n",
            "\n",
            "   [[213 164 131]\n",
            "    [229 181 143]\n",
            "    [250 208 170]\n",
            "    ...\n",
            "    [102  80  69]\n",
            "    [109  87  76]\n",
            "    [102  80  69]]\n",
            "\n",
            "   [[199 151 115]\n",
            "    [226 178 140]\n",
            "    [249 207 169]\n",
            "    ...\n",
            "    [104  82  71]\n",
            "    [107  85  74]\n",
            "    [105  83  72]]\n",
            "\n",
            "   [[198 150 114]\n",
            "    [229 184 145]\n",
            "    [252 213 174]\n",
            "    ...\n",
            "    [102  80  69]\n",
            "    [ 97  75  64]\n",
            "    [100  78  67]]]\n",
            "\n",
            "\n",
            "  ...\n",
            "\n",
            "\n",
            "  [[[128 103  83]\n",
            "    [130 103  82]\n",
            "    [133 106  85]\n",
            "    ...\n",
            "    [144 108  82]\n",
            "    [157 121  95]\n",
            "    [188 151 124]]\n",
            "\n",
            "   [[127 100  79]\n",
            "    [134 107  86]\n",
            "    [138 111  90]\n",
            "    ...\n",
            "    [154 118  92]\n",
            "    [147 111  85]\n",
            "    [151 116  88]]\n",
            "\n",
            "   [[139 112  91]\n",
            "    [147 121  98]\n",
            "    [153 127 104]\n",
            "    ...\n",
            "    [155 121  94]\n",
            "    [142 108  81]\n",
            "    [138 103  75]]\n",
            "\n",
            "   ...\n",
            "\n",
            "   [[ 74  62  50]\n",
            "    [ 71  59  47]\n",
            "    [ 68  56  44]\n",
            "    ...\n",
            "    [ 93  75  61]\n",
            "    [ 95  77  63]\n",
            "    [103  85  71]]\n",
            "\n",
            "   [[ 69  57  45]\n",
            "    [ 68  56  44]\n",
            "    [ 67  55  43]\n",
            "    ...\n",
            "    [ 92  74  60]\n",
            "    [ 95  77  63]\n",
            "    [104  86  72]]\n",
            "\n",
            "   [[ 72  59  50]\n",
            "    [ 72  60  48]\n",
            "    [ 72  60  48]\n",
            "    ...\n",
            "    [ 92  74  60]\n",
            "    [ 97  79  65]\n",
            "    [107  89  75]]]\n",
            "\n",
            "\n",
            "  [[[206 169 142]\n",
            "    [176 139 110]\n",
            "    [149 114  86]\n",
            "    ...\n",
            "    [ 89  79  70]\n",
            "    [ 86  76  67]\n",
            "    [ 83  70  62]]\n",
            "\n",
            "   [[202 165 138]\n",
            "    [194 157 128]\n",
            "    [166 129 102]\n",
            "    ...\n",
            "    [ 85  75  66]\n",
            "    [ 83  73  64]\n",
            "    [ 79  69  60]]\n",
            "\n",
            "   [[166 129 102]\n",
            "    [193 156 127]\n",
            "    [171 134 107]\n",
            "    ...\n",
            "    [ 82  72  63]\n",
            "    [ 81  71  62]\n",
            "    [ 79  69  60]]\n",
            "\n",
            "   ...\n",
            "\n",
            "   [[ 91  73  59]\n",
            "    [ 93  75  61]\n",
            "    [ 94  76  62]\n",
            "    ...\n",
            "    [ 51  44  36]\n",
            "    [ 51  44  36]\n",
            "    [ 51  44  36]]\n",
            "\n",
            "   [[ 93  75  63]\n",
            "    [ 98  80  68]\n",
            "    [ 96  78  66]\n",
            "    ...\n",
            "    [ 51  44  36]\n",
            "    [ 53  46  38]\n",
            "    [ 53  46  38]]\n",
            "\n",
            "   [[ 97  79  67]\n",
            "    [103  85  73]\n",
            "    [ 99  81  69]\n",
            "    ...\n",
            "    [ 52  45  37]\n",
            "    [ 53  46  38]\n",
            "    [ 52  45  37]]]\n",
            "\n",
            "\n",
            "  [[[ 99  85  76]\n",
            "    [ 99  85  76]\n",
            "    [ 96  82  71]\n",
            "    ...\n",
            "    [ 27  24  19]\n",
            "    [ 27  24  19]\n",
            "    [ 27  24  19]]\n",
            "\n",
            "   [[ 86  72  63]\n",
            "    [ 89  75  66]\n",
            "    [ 89  75  64]\n",
            "    ...\n",
            "    [ 27  24  19]\n",
            "    [ 27  24  19]\n",
            "    [ 27  24  19]]\n",
            "\n",
            "   [[ 81  67  58]\n",
            "    [ 84  70  61]\n",
            "    [ 86  72  63]\n",
            "    ...\n",
            "    [ 27  24  19]\n",
            "    [ 27  24  19]\n",
            "    [ 27  24  19]]\n",
            "\n",
            "   ...\n",
            "\n",
            "   [[ 52  45  39]\n",
            "    [ 52  45  39]\n",
            "    [ 51  44  38]\n",
            "    ...\n",
            "    [ 30  25  21]\n",
            "    [ 30  25  21]\n",
            "    [ 30  25  21]]\n",
            "\n",
            "   [[ 51  44  38]\n",
            "    [ 51  44  38]\n",
            "    [ 51  44  38]\n",
            "    ...\n",
            "    [ 30  25  21]\n",
            "    [ 30  25  21]\n",
            "    [ 29  24  20]]\n",
            "\n",
            "   [[ 46  39  33]\n",
            "    [ 47  40  34]\n",
            "    [ 47  40  34]\n",
            "    ...\n",
            "    [ 30  25  21]\n",
            "    [ 29  24  20]\n",
            "    [ 29  24  20]]]]], shape=(1, 16, 1560, 1040, 3), dtype=uint8)\n"
          ]
        }
      ]
    },
    {
      "cell_type": "markdown",
      "source": [
        "here we see the shape 16\n",
        "\n",
        "tf.image.extract_patches(0 is the function which helps in extracting patches from the image. The images takes argument the input image , it is firstly expanded to include a batch dimension tf.expand_dims(). The size arguments takes the patch size given by patch_size and the strides arguments takes the stride given.\n",
        "Here the rates argument is set to[1,1,1,1] to indicate no dilation is applied. Padding 'VALID' is given so that no padding is done to image\n",
        "\n",
        "using reshape 16 tiles is acheived.\n"
      ],
      "metadata": {
        "id": "EjwFrFr_iV5c"
      }
    },
    {
      "cell_type": "markdown",
      "source": [
        "5. Write a graph data structure in python with random connections between nodes. (5pts)\n",
        "Refer to the image below:"
      ],
      "metadata": {
        "id": "k9o0RFBHjYeu"
      }
    },
    {
      "cell_type": "code",
      "source": [
        "import networkx as nx\n",
        "import matplotlib.pyplot as plt\n",
        "\n",
        "# defining the graph\n",
        "\n",
        "graph={'A':{'B','C','D'},\n",
        "       'B':{'E'},\n",
        "       'C':{'E'},\n",
        "       'D':{'E'},\n",
        "       'E':{'A'}\n",
        "       }\n",
        "\n",
        "# creating a Networkx graph object\n",
        "nx_graph=nx.Graph(graph)\n",
        "\n",
        "# Visualize the graph using Matplotlib\n",
        "nx.draw(nx_graph,with_labels=True)\n",
        "plt.show()\n"
      ],
      "metadata": {
        "colab": {
          "base_uri": "https://localhost:8080/",
          "height": 319
        },
        "id": "xkiu1so4fUiY",
        "outputId": "405489b5-a955-4e2f-a65b-3d117b20d3d8"
      },
      "execution_count": 34,
      "outputs": [
        {
          "output_type": "display_data",
          "data": {
            "text/plain": [
              "<Figure size 432x288 with 1 Axes>"
            ],
            "image/png": "[encoded data removed]"
          },
          "metadata": {}
        }
      ]
    },
    {
      "cell_type": "markdown",
      "source": [
        "6. Two part question:\n",
        "\n",
        "You can choose to use the custom model you have created in questions 1 or 2\n",
        "inside the node. The input can be a random input created using\n",
        "random.randint(1,100). You can use any error correction techniques we\n",
        "used before. (5pts)"
      ],
      "metadata": {
        "id": "eKKBUNTckpnC"
      }
    },
    {
      "cell_type": "code",
      "source": [],
      "metadata": {
        "id": "ll1oiA6okgFB"
      },
      "execution_count": null,
      "outputs": []
    }
  ]
}